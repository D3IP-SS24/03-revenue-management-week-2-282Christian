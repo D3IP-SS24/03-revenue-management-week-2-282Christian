{
 "cells": [
  {
   "cell_type": "markdown",
   "metadata": {},
   "source": [
    "# Hotel booking\n",
    "\n",
    "## EDA\n",
    "\n",
    "The dataset contains data from two different hotels. One Resort hotel and one City hotel.\n",
    "\n",
    "From the publication (https://www.sciencedirect.com/science/article/pii/S2352340918315191) we know that both hotels are located in Portugal (southern Europe) (\"H1 at the resort region of Algarve and H2 at the city of Lisbon\"). The distance between these two locations is ca. 280 km by car and both locations border on the north atlantic.  \n",
    "\n",
    "The data contains \"bookings due to arrive between the 1st of July of 2015 and the 31st of August 2017\".  \n",
    "\n",
    "Topics covered and questions to answer from the data:\n",
    "- Where do the guests come from?\n",
    "- How much do guests pay for a room per night?\n",
    "- How does the price per night vary over the year?\n",
    "- Which are the most busy month?\n",
    "- How long do people stay at the hotels?\n",
    "- Bookings by market segment\n",
    "- How many bookings were canceled?\n",
    "- Which month have the highest number of cancelations?"
   ]
  },
  {
   "cell_type": "markdown",
   "metadata": {},
   "source": [
    "Setup, data inspection and cleanup are hidden for easier reading. Click the Code/Output buttons if you are curious."
   ]
  },
  {
   "cell_type": "code",
   "execution_count": null,
   "metadata": {
    "_cell_guid": "b1076dfc-b9ad-4769-8c92-a6c4dae69d19",
    "_kg_hide-input": true,
    "_kg_hide-output": true,
    "_uuid": "8f2839f25d086af736a60e9eeb907d3b93b6e0e5"
   },
   "outputs": [],
   "source": [
    "import pandas as pd\n",
    "import matplotlib.pyplot as plt\n",
    "import seaborn as sns\n",
    "import numpy as np\n",
    "import plotly.express as px\n",
    "import folium\n",
    "\n",
    "\n",
    "# set some display options:\n",
    "sns.set(style=\"whitegrid\")\n",
    "pd.set_option(\"display.max_columns\", 36)\n"
   ]
  },
  {
   "cell_type": "code",
   "execution_count": null,
   "metadata": {},
   "outputs": [],
   "source": [
    "# load data:\n",
    "file_path = \"hotel_bookings.csv\"\n",
    "full_data = pd.read_csv(file_path)"
   ]
  },
  {
   "cell_type": "code",
   "execution_count": null,
   "metadata": {
    "_cell_guid": "79c7e3d0-c299-4dcb-8224-4455121ee9b0",
    "_kg_hide-input": true,
    "_kg_hide-output": true,
    "_uuid": "d629ff2d2480ee46fbb7e2d37f6b5fab8052498a"
   },
   "outputs": [],
   "source": [
    "# A bit of data inspection and cleanup\n",
    "full_data.head()"
   ]
  },
  {
   "cell_type": "code",
   "execution_count": null,
   "metadata": {
    "_kg_hide-input": true,
    "_kg_hide-output": true
   },
   "outputs": [],
   "source": [
    "# check for missing values\n",
    "full_data.isnull().sum()"
   ]
  },
  {
   "cell_type": "code",
   "execution_count": null,
   "metadata": {
    "_kg_hide-input": true,
    "_kg_hide-output": true
   },
   "outputs": [],
   "source": [
    "# Replace missing values:\n",
    "# agent: If no agency is given, booking was most likely made without one.\n",
    "# company: If none given, it was most likely private.\n",
    "# rest schould be self-explanatory.\n",
    "nan_replacements = {\"children:\": 0.0,\"country\": \"Unknown\", \"agent\": 0, \"company\": 0}\n",
    "full_data_cln = full_data.fillna(nan_replacements)\n",
    "\n",
    "# \"meal\" contains values \"Undefined\", which is equal to SC.\n",
    "full_data_cln[\"meal\"].replace(\"Undefined\", \"SC\", inplace=True)\n",
    "\n",
    "# Some rows contain entreis with 0 adults, 0 children and 0 babies. \n",
    "# We are dropping these entries with no guests.\n",
    "zero_guests = list(full_data_cln.loc[full_data_cln[\"adults\"]\n",
    "                   + full_data_cln[\"children\"]\n",
    "                   + full_data_cln[\"babies\"]==0].index)\n",
    "full_data_cln.drop(full_data_cln.index[zero_guests], inplace=True)"
   ]
  },
  {
   "cell_type": "code",
   "execution_count": null,
   "metadata": {
    "_kg_hide-input": true,
    "_kg_hide-output": true
   },
   "outputs": [],
   "source": [
    "# How much data is left?\n",
    "full_data_cln.shape"
   ]
  },
  {
   "cell_type": "markdown",
   "metadata": {},
   "source": [
    "## EDA"
   ]
  },
  {
   "cell_type": "code",
   "execution_count": null,
   "metadata": {
    "_kg_hide-input": true,
    "_kg_hide-output": true
   },
   "outputs": [],
   "source": [
    "# After cleaning, separate Resort and City hotel\n",
    "# To know the acutal visitor numbers, only bookings that were not canceled are included. \n",
    "rh = full_data_cln.loc[(full_data_cln[\"hotel\"] == \"Resort Hotel\") & (full_data_cln[\"is_canceled\"] == 0)]\n",
    "ch = full_data_cln.loc[(full_data_cln[\"hotel\"] == \"City Hotel\") & (full_data_cln[\"is_canceled\"] == 0)]"
   ]
  },
  {
   "cell_type": "markdown",
   "metadata": {},
   "source": [
    "### Where do the guests come from?"
   ]
  },
  {
   "cell_type": "code",
   "execution_count": null,
   "metadata": {
    "_kg_hide-input": true
   },
   "outputs": [],
   "source": [
    "# get number of acutal guests by country\n",
    "country_data = pd.DataFrame(full_data_cln.loc[full_data_cln[\"is_canceled\"] == 0][\"country\"].value_counts())\n",
    "country_data.columns = [\"Number of Guests\"]\n",
    "total_guests = country_data[\"Number of Guests\"].sum()\n",
    "country_data[\"Guests in %\"] = round(country_data[\"Number of Guests\"] / total_guests * 100, 2)\n",
    "country_data[\"country\"] = country_data.index\n",
    "\n",
    "country_data\n",
    "\n"
   ]
  },
  {
   "cell_type": "code",
   "execution_count": null,
   "metadata": {
    "_kg_hide-input": true
   },
   "outputs": [],
   "source": [
    "# show on map\n",
    "guest_map = px.choropleth(country_data,\n",
    "                    locations=country_data.index,\n",
    "                    color=country_data[\"Guests in %\"], \n",
    "                    hover_name=country_data.index, \n",
    "                    color_continuous_scale=px.colors.sequential.Plasma,\n",
    "                    title=\"Home country of guests\")\n",
    "guest_map.show()"
   ]
  },
  {
   "cell_type": "markdown",
   "metadata": {},
   "source": [
    "People from all over the world are staying in these two hotels. Most guests are from Portugal and other countries in Europe. "
   ]
  },
  {
   "cell_type": "markdown",
   "metadata": {},
   "source": [
    "### How much do guests pay for a room per night?  \n",
    "Both hotels have different room types and different meal arrangements. Seasonal factors are also important. So the prices vary a lot.   \n",
    "Since no currency information is given, but Portugal is part of the European Monetary Union, I assume that all prices are in EUR. "
   ]
  },
  {
   "cell_type": "code",
   "execution_count": null,
   "metadata": {
    "_kg_hide-input": true,
    "_kg_hide-output": true
   },
   "outputs": [],
   "source": [
    "# Counting adults and children as paying guests only, not babies.\n",
    "rh[\"adr_pp\"] = rh[\"adr\"] / (rh[\"adults\"] + rh[\"children\"])\n",
    "ch[\"adr_pp\"] = ch[\"adr\"] / (ch[\"adults\"] + ch[\"children\"])"
   ]
  },
  {
   "cell_type": "code",
   "execution_count": null,
   "metadata": {
    "_kg_hide-input": true
   },
   "outputs": [],
   "source": [
    "print(\"\"\"From all non-cnceled bookings, across all room types and meals, the average prices are:\n",
    "Resort hotel: {:.2f} € per night and person.\n",
    "City hotel: {:.2f} € per night and person.\"\"\"\n",
    "      .format(rh[\"adr_pp\"].mean(), ch[\"adr_pp\"].mean()))"
   ]
  },
  {
   "cell_type": "code",
   "execution_count": null,
   "metadata": {
    "_kg_hide-input": true
   },
   "outputs": [],
   "source": [
    "# normalize price per night (adr):\n",
    "full_data_cln[\"adr_pp\"] = full_data_cln[\"adr\"] / (full_data_cln[\"adults\"] + full_data_cln[\"children\"])\n",
    "full_data_guests = full_data_cln.loc[full_data_cln[\"is_canceled\"] == 0] # only actual gusts\n",
    "room_prices = full_data_guests[[\"hotel\", \"reserved_room_type\", \"adr_pp\"]].sort_values(\"reserved_room_type\")\n",
    "\n",
    "# boxplot:\n",
    "plt.figure(figsize=(12, 8))\n",
    "sns.boxplot(x=\"reserved_room_type\",\n",
    "            y=\"adr_pp\",\n",
    "            hue=\"hotel\",\n",
    "            data=room_prices, \n",
    "            hue_order=[\"City Hotel\", \"Resort Hotel\"],\n",
    "            fliersize=0)\n",
    "plt.title(\"Price of room types per night and person\", fontsize=16)\n",
    "plt.xlabel(\"Room type\", fontsize=16)\n",
    "plt.ylabel(\"Price [EUR]\", fontsize=16)\n",
    "plt.legend(loc=\"upper right\")\n",
    "plt.ylim(0, 160)\n",
    "plt.show()"
   ]
  },
  {
   "cell_type": "markdown",
   "metadata": {},
   "source": [
    "This figure shows the average price per room, depending on its type and the standard deviation.  \n",
    "Note that due to data anonymization rooms with the same type letter may not necessarily be the same across hotels."
   ]
  },
  {
   "cell_type": "markdown",
   "metadata": {},
   "source": [
    "### How does the price per night vary over the year?  \n",
    "To keep it simple, I'm using the average price per night and person, regardless of the room type and meal.  "
   ]
  },
  {
   "cell_type": "code",
   "execution_count": null,
   "metadata": {
    "_kg_hide-input": true
   },
   "outputs": [],
   "source": [
    "# grab data:\n",
    "room_prices_mothly = full_data_guests[[\"hotel\", \"arrival_date_month\", \"adr_pp\"]].sort_values(\"arrival_date_month\")\n",
    "\n",
    "# order by month:\n",
    "ordered_months = [\"January\", \"February\", \"March\", \"April\", \"May\", \"June\", \n",
    "          \"July\", \"August\", \"September\", \"October\", \"November\", \"December\"]\n",
    "room_prices_mothly[\"arrival_date_month\"] = pd.Categorical(room_prices_mothly[\"arrival_date_month\"], categories=ordered_months, ordered=True)\n",
    "\n",
    "# barplot with standard deviation:\n",
    "plt.figure(figsize=(12, 8))\n",
    "sns.lineplot(x = \"arrival_date_month\", y=\"adr_pp\", hue=\"hotel\", data=room_prices_mothly, \n",
    "            hue_order = [\"City Hotel\", \"Resort Hotel\"], ci=\"sd\", size=\"hotel\", sizes=(2.5, 2.5))\n",
    "plt.title(\"Room price per night and person over the year\", fontsize=16)\n",
    "plt.xlabel(\"Month\", fontsize=16)\n",
    "plt.xticks(rotation=45)\n",
    "plt.ylabel(\"Price [EUR]\", fontsize=16)\n",
    "plt.show()"
   ]
  },
  {
   "cell_type": "markdown",
   "metadata": {},
   "source": [
    "This clearly shows that the prices in the Resort hotel are much higher during the summer (no surprise here).   \n",
    "The price of the city hotel varies less and is most expensive during spring and autumn. "
   ]
  },
  {
   "cell_type": "markdown",
   "metadata": {},
   "source": [
    "### Which are the most busy month?"
   ]
  },
  {
   "cell_type": "code",
   "execution_count": null,
   "metadata": {
    "_kg_hide-input": true
   },
   "outputs": [],
   "source": [
    "# Create a DateFrame with the relevant data:\n",
    "resort_guests_monthly = rh.groupby(\"arrival_date_month\")[\"hotel\"].count()\n",
    "city_guests_monthly = ch.groupby(\"arrival_date_month\")[\"hotel\"].count()\n",
    "\n",
    "resort_guest_data = pd.DataFrame({\"month\": list(resort_guests_monthly.index),\n",
    "                    \"hotel\": \"Resort hotel\", \n",
    "                    \"guests\": list(resort_guests_monthly.values)})\n",
    "\n",
    "city_guest_data = pd.DataFrame({\"month\": list(city_guests_monthly.index),\n",
    "                    \"hotel\": \"City hotel\", \n",
    "                    \"guests\": list(city_guests_monthly.values)})\n",
    "full_guest_data = pd.concat([resort_guest_data,city_guest_data], ignore_index=True)\n",
    "\n",
    "# order by month:\n",
    "ordered_months = [\"January\", \"February\", \"March\", \"April\", \"May\", \"June\", \n",
    "          \"July\", \"August\", \"September\", \"October\", \"November\", \"December\"]\n",
    "full_guest_data[\"month\"] = pd.Categorical(full_guest_data[\"month\"], categories=ordered_months, ordered=True)\n",
    "\n",
    "# Dataset contains July and August date from 3 years, the other month from 2 years. Normalize data:\n",
    "full_guest_data.loc[(full_guest_data[\"month\"] == \"July\") | (full_guest_data[\"month\"] == \"August\"),\n",
    "                    \"guests\"] /= 3\n",
    "full_guest_data.loc[~((full_guest_data[\"month\"] == \"July\") | (full_guest_data[\"month\"] == \"August\")),\n",
    "                    \"guests\"] /= 2\n",
    "\n",
    "#show figure:\n",
    "plt.figure(figsize=(12, 8))\n",
    "sns.lineplot(x = \"month\", y=\"guests\", hue=\"hotel\", data=full_guest_data, \n",
    "             hue_order = [\"City hotel\", \"Resort hotel\"], size=\"hotel\", sizes=(2.5, 2.5))\n",
    "plt.title(\"Average number of hotel guests per month\", fontsize=16)\n",
    "plt.xlabel(\"Month\", fontsize=16)\n",
    "plt.xticks(rotation=45)\n",
    "plt.ylabel(\"Number of guests\", fontsize=16)\n",
    "plt.show()"
   ]
  },
  {
   "cell_type": "markdown",
   "metadata": {},
   "source": [
    "The City hotel has more guests during spring and autumn, when the prices are also highest.   \n",
    "In July and August there are less visitors, although prices are lower.  \n",
    "\n",
    "Guest numbers for the Resort hotel go down slighty from June to September, which is also when the prices are highest.  \n",
    "Both hotels have the fewest guests during the winter."
   ]
  },
  {
   "cell_type": "markdown",
   "metadata": {},
   "source": [
    "### How long do people stay at the hotels?"
   ]
  },
  {
   "cell_type": "code",
   "execution_count": null,
   "metadata": {
    "_kg_hide-input": true,
    "_kg_hide-output": true
   },
   "outputs": [],
   "source": [
    "# Create a DateFrame with the relevant data:\n",
    "rh[\"total_nights\"] = rh[\"stays_in_weekend_nights\"] + rh[\"stays_in_week_nights\"]\n",
    "ch[\"total_nights\"] = ch[\"stays_in_weekend_nights\"] + ch[\"stays_in_week_nights\"]\n",
    "\n",
    "num_nights_res = list(rh[\"total_nights\"].value_counts().index)\n",
    "num_bookings_res = list(rh[\"total_nights\"].value_counts())\n",
    "rel_bookings_res = rh[\"total_nights\"].value_counts() / sum(num_bookings_res) * 100 # convert to percent\n",
    "\n",
    "num_nights_cty = list(ch[\"total_nights\"].value_counts().index)\n",
    "num_bookings_cty = list(ch[\"total_nights\"].value_counts())\n",
    "rel_bookings_cty = ch[\"total_nights\"].value_counts() / sum(num_bookings_cty) * 100 # convert to percent\n",
    "\n",
    "res_nights = pd.DataFrame({\"hotel\": \"Resort hotel\",\n",
    "                           \"num_nights\": num_nights_res,\n",
    "                           \"rel_num_bookings\": rel_bookings_res})\n",
    "\n",
    "cty_nights = pd.DataFrame({\"hotel\": \"City hotel\",\n",
    "                           \"num_nights\": num_nights_cty,\n",
    "                           \"rel_num_bookings\": rel_bookings_cty})\n",
    "\n",
    "nights_data = pd.concat([res_nights, cty_nights], ignore_index=True)"
   ]
  },
  {
   "cell_type": "code",
   "execution_count": null,
   "metadata": {
    "_kg_hide-input": true
   },
   "outputs": [],
   "source": [
    "#show figure:\n",
    "plt.figure(figsize=(16, 8))\n",
    "sns.barplot(x = \"num_nights\", y = \"rel_num_bookings\", hue=\"hotel\", data=nights_data,\n",
    "            hue_order = [\"City hotel\", \"Resort hotel\"])\n",
    "plt.title(\"Length of stay\", fontsize=16)\n",
    "plt.xlabel(\"Number of nights\", fontsize=16)\n",
    "plt.ylabel(\"Guests [%]\", fontsize=16)\n",
    "plt.legend(loc=\"upper right\")\n",
    "plt.xlim(0,22)\n",
    "plt.show()"
   ]
  },
  {
   "cell_type": "code",
   "execution_count": null,
   "metadata": {
    "_kg_hide-input": true
   },
   "outputs": [],
   "source": [
    "avg_nights_res = sum(list((res_nights[\"num_nights\"] * (res_nights[\"rel_num_bookings\"]/100)).values))\n",
    "avg_nights_cty = sum(list((cty_nights[\"num_nights\"] * (cty_nights[\"rel_num_bookings\"]/100)).values))\n",
    "print(f\"On average, guests of the City hotel stay {avg_nights_cty:.2f} nights, and {cty_nights['num_nights'].max()} at maximum.\")\n",
    "print(f\"On average, guests of the Resort hotel stay {avg_nights_res:.2f} nights, and {res_nights['num_nights'].max()} at maximum.\")"
   ]
  },
  {
   "cell_type": "markdown",
   "metadata": {},
   "source": [
    "For the city hotel there is a clear preference for 1-4 nights.  \n",
    "For the resort hotel, 1-4 nights are also often booked, but 7 nights also stand out as being very popular. "
   ]
  },
  {
   "cell_type": "markdown",
   "metadata": {},
   "source": [
    "### Bookings by market segment"
   ]
  },
  {
   "cell_type": "code",
   "execution_count": null,
   "metadata": {
    "_kg_hide-input": true
   },
   "outputs": [],
   "source": [
    "# total bookings per market segment (incl. canceled)\n",
    "segments=full_data_cln[\"market_segment\"].value_counts()\n",
    "segments"
   ]
  },
  {
   "cell_type": "code",
   "execution_count": null,
   "metadata": {
    "_kg_hide-input": true
   },
   "outputs": [],
   "source": [
    "# price per night (ADR) and person based on booking and room.\n",
    "# show figure:\n",
    "plt.figure(figsize=(12, 8))\n",
    "sns.barplot(x=\"market_segment\",\n",
    "            y=\"adr_pp\",\n",
    "            hue=\"reserved_room_type\",\n",
    "            data=full_data_cln,\n",
    "            ci=\"sd\",\n",
    "            errwidth=1,\n",
    "            capsize=0.1)\n",
    "plt.title(\"ADR by market segment and room type\", fontsize=16)\n",
    "plt.xlabel(\"Market segment\", fontsize=16)\n",
    "plt.xticks(rotation=45)\n",
    "plt.ylabel(\"ADR per person [EUR]\", fontsize=16)\n",
    "plt.legend(loc=\"upper left\")\n",
    "plt.show()"
   ]
  },
  {
   "cell_type": "markdown",
   "metadata": {},
   "source": [
    "On average, groups get the best prices and Airlines pay approximately twice as much.  \n",
    "  \n",
    "What are possible resons for the high prices paid by Airlines?"
   ]
  },
  {
   "cell_type": "code",
   "execution_count": null,
   "metadata": {
    "_kg_hide-input": true
   },
   "outputs": [],
   "source": [
    "# Summarize Relevant data:\n",
    "Airline_data = full_data_cln.loc[full_data_cln[\"market_segment\"]== \"Aviation\"][[\"is_canceled\",\n",
    "                                                                                \"adults\",\n",
    "                                                                                \"lead_time\",\n",
    "                                                                                \"adr_pp\",]].describe()\n",
    "\n",
    "Non_Airline_data = full_data_cln.loc[full_data_cln[\"market_segment\"]!= \"Aviation\"][[\"is_canceled\",\n",
    "                                                                                    \"adults\",\n",
    "                                                                                    \"lead_time\",\n",
    "                                                                                    \"adr_pp\",]].describe()"
   ]
  },
  {
   "cell_type": "code",
   "execution_count": null,
   "metadata": {},
   "outputs": [],
   "source": [
    "Airline_data"
   ]
  },
  {
   "cell_type": "code",
   "execution_count": null,
   "metadata": {},
   "outputs": [],
   "source": [
    "Non_Airline_data"
   ]
  },
  {
   "cell_type": "markdown",
   "metadata": {},
   "source": [
    "- Lead time for bookings from Aviation is very short: Mean 4 days vs. 104 days for other bookings.\n",
    "- Airlines NEED a place for their crews to stay.\n",
    "- Airline personel usually gets one room per person - more total rooms required compared to families."
   ]
  },
  {
   "cell_type": "markdown",
   "metadata": {},
   "source": [
    "### How many bookings were canceled?"
   ]
  },
  {
   "cell_type": "code",
   "execution_count": null,
   "metadata": {
    "_kg_hide-input": true
   },
   "outputs": [],
   "source": [
    "# absolute cancelations:\n",
    "total_cancelations = full_data_cln[\"is_canceled\"].sum()\n",
    "rh_cancelations = full_data_cln.loc[full_data_cln[\"hotel\"] == \"Resort Hotel\"][\"is_canceled\"].sum()\n",
    "ch_cancelations = full_data_cln.loc[full_data_cln[\"hotel\"] == \"City Hotel\"][\"is_canceled\"].sum()\n",
    "\n",
    "# as percent:\n",
    "rel_cancel = total_cancelations / full_data_cln.shape[0] * 100\n",
    "rh_rel_cancel = rh_cancelations / full_data_cln.loc[full_data_cln[\"hotel\"] == \"Resort Hotel\"].shape[0] * 100\n",
    "ch_rel_cancel = ch_cancelations / full_data_cln.loc[full_data_cln[\"hotel\"] == \"City Hotel\"].shape[0] * 100\n",
    "\n",
    "print(f\"Total bookings canceled: {total_cancelations:,} ({rel_cancel:.0f} %)\")\n",
    "print(f\"Resort hotel bookings canceled: {rh_cancelations:,} ({rh_rel_cancel:.0f} %)\")\n",
    "print(f\"City hotel bookings canceled: {ch_cancelations:,} ({ch_rel_cancel:.0f} %)\")"
   ]
  },
  {
   "cell_type": "markdown",
   "metadata": {},
   "source": [
    "### Which month have the highest number of cancelations?"
   ]
  },
  {
   "cell_type": "code",
   "execution_count": null,
   "metadata": {
    "_kg_hide-input": true
   },
   "outputs": [],
   "source": [
    "# Create a DateFrame with the relevant data:\n",
    "res_book_per_month = full_data_cln.loc[(full_data_cln[\"hotel\"] == \"Resort Hotel\")].groupby(\"arrival_date_month\")[\"hotel\"].count()\n",
    "res_cancel_per_month = full_data_cln.loc[(full_data_cln[\"hotel\"] == \"Resort Hotel\")].groupby(\"arrival_date_month\")[\"is_canceled\"].sum()\n",
    "\n",
    "cty_book_per_month = full_data_cln.loc[(full_data_cln[\"hotel\"] == \"City Hotel\")].groupby(\"arrival_date_month\")[\"hotel\"].count()\n",
    "cty_cancel_per_month = full_data_cln.loc[(full_data_cln[\"hotel\"] == \"City Hotel\")].groupby(\"arrival_date_month\")[\"is_canceled\"].sum()\n",
    "\n",
    "res_cancel_data = pd.DataFrame({\"Hotel\": \"Resort Hotel\",\n",
    "                                \"Month\": list(res_book_per_month.index),\n",
    "                                \"Bookings\": list(res_book_per_month.values),\n",
    "                                \"Cancelations\": list(res_cancel_per_month.values)})\n",
    "cty_cancel_data = pd.DataFrame({\"Hotel\": \"City Hotel\",\n",
    "                                \"Month\": list(cty_book_per_month.index),\n",
    "                                \"Bookings\": list(cty_book_per_month.values),\n",
    "                                \"Cancelations\": list(cty_cancel_per_month.values)})\n",
    "\n",
    "full_cancel_data = pd.concat([res_cancel_data, cty_cancel_data], ignore_index=True)\n",
    "full_cancel_data[\"cancel_percent\"] = full_cancel_data[\"Cancelations\"] / full_cancel_data[\"Bookings\"] * 100\n",
    "\n",
    "# order by month:\n",
    "ordered_months = [\"January\", \"February\", \"March\", \"April\", \"May\", \"June\", \n",
    "          \"July\", \"August\", \"September\", \"October\", \"November\", \"December\"]\n",
    "full_cancel_data[\"Month\"] = pd.Categorical(full_cancel_data[\"Month\"], categories=ordered_months, ordered=True)\n",
    "\n",
    "# show figure:\n",
    "plt.figure(figsize=(12, 8))\n",
    "sns.barplot(x = \"Month\", y = \"cancel_percent\" , hue=\"Hotel\",\n",
    "            hue_order = [\"City Hotel\", \"Resort Hotel\"], data=full_cancel_data)\n",
    "plt.title(\"Cancelations per month\", fontsize=16)\n",
    "plt.xlabel(\"Month\", fontsize=16)\n",
    "plt.xticks(rotation=45)\n",
    "plt.ylabel(\"Cancelations [%]\", fontsize=16)\n",
    "plt.legend(loc=\"upper right\")\n",
    "plt.show()"
   ]
  },
  {
   "cell_type": "markdown",
   "metadata": {},
   "source": [
    "For the City hotel the relative number of cancelations is around 40 % throughout the year.  \n",
    "For the Resort hotel it is highest in the summer and lowest during the winter. "
   ]
  }
 ],
 "metadata": {
  "kernelspec": {
   "display_name": "Python 3",
   "language": "python",
   "name": "python3"
  },
  "language_info": {
   "codemirror_mode": {
    "name": "ipython",
    "version": 3
   },
   "file_extension": ".py",
   "mimetype": "text/x-python",
   "name": "python",
   "nbconvert_exporter": "python",
   "pygments_lexer": "ipython3",
   "version": "3.8.17"
  }
 },
 "nbformat": 4,
 "nbformat_minor": 4
}
